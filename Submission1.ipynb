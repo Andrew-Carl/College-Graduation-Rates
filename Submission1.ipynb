{
 "cells": [
  {
   "cell_type": "code",
   "execution_count": 1,
   "metadata": {},
   "outputs": [
    {
     "name": "stderr",
     "output_type": "stream",
     "text": [
      "Using TensorFlow backend.\n"
     ]
    }
   ],
   "source": [
    "import pandas as pd\n",
    "import numpy as np\n",
    "import requests\n",
    "from fancyimpute import MICE"
   ]
  },
  {
   "cell_type": "code",
   "execution_count": 2,
   "metadata": {},
   "outputs": [
    {
     "data": {
      "text/plain": [
       "array(['PCIP01', 'PCIP03', 'PCIP04', 'PCIP05', 'PCIP09', 'PCIP10',\n",
       "       'PCIP11', 'PCIP12', 'PCIP13', 'PCIP14', 'PCIP15', 'PCIP16',\n",
       "       'PCIP19', 'PCIP22', 'PCIP23', 'PCIP24', 'PCIP25', 'PCIP26',\n",
       "       'PCIP27', 'PCIP29', 'PCIP30', 'PCIP31', 'PCIP38', 'PCIP39',\n",
       "       'PCIP40', 'PCIP41', 'PCIP42', 'PCIP43', 'PCIP44', 'PCIP45',\n",
       "       'PCIP46', 'PCIP47', 'PCIP48', 'PCIP49', 'PCIP50', 'PCIP51',\n",
       "       'PCIP52', 'PCIP54', 'CIP01BACHL', 'CIP03BACHL', 'CIP04BACHL',\n",
       "       'CIP05BACHL', 'CIP09BACHL', 'CIP10BACHL', 'CIP11BACHL',\n",
       "       'CIP12BACHL', 'CIP13BACHL', 'CIP14BACHL', 'CIP15BACHL',\n",
       "       'CIP16BACHL', 'CIP19BACHL', 'CIP22BACHL', 'CIP23BACHL',\n",
       "       'CIP24BACHL', 'CIP25BACHL', 'CIP26BACHL', 'CIP27BACHL',\n",
       "       'CIP29BACHL', 'CIP30BACHL', 'CIP31BACHL', 'CIP38BACHL',\n",
       "       'CIP39BACHL', 'CIP40BACHL', 'CIP41BACHL', 'CIP42BACHL',\n",
       "       'CIP43BACHL', 'CIP44BACHL', 'CIP45BACHL', 'CIP46BACHL',\n",
       "       'CIP47BACHL', 'CIP48BACHL', 'CIP49BACHL', 'CIP50BACHL',\n",
       "       'CIP51BACHL', 'CIP52BACHL', 'CIP54BACHL', 'ADM_RATE', 'SATVRMID',\n",
       "       'SATMTMID', 'SATWRMID', 'ACTCMMID', 'ACTENMID', 'ACTMTMID',\n",
       "       'ACTWRMID', 'PCTFLOAN', 'GRAD_DEBT_MDN', 'WDRAW_DEBT_MDN',\n",
       "       'LO_INC_DEBT_MDN', 'MD_INC_DEBT_MDN', 'HI_INC_DEBT_MDN', 'C150_4',\n",
       "       'TRANS_4', 'COSTT4_A', 'COSTT4_P', 'TUITIONFEE_IN',\n",
       "       'TUITIONFEE_OUT', 'MD_EARN_WNE_P6', 'CONTROL', 'REGION', 'LOCALE',\n",
       "       'LOCALE2', nan, 'TUITFTE', 'INEXPFTE', 'AVGFACSAL', 'PFTFAC', 'UG',\n",
       "       'UG25ABV', 'PAR_ED_PCT_MS', 'PAR_ED_PCT_HS', 'PAR_ED_PCT_PS',\n",
       "       'AGE_ENTRY', 'FEMALE', 'D_PCTPELL_PCTFLOAN'], dtype=object)"
      ]
     },
     "execution_count": 2,
     "metadata": {},
     "output_type": "execute_result"
    }
   ],
   "source": [
    "# read in data dictionary\n",
    "ref = pd.read_csv('./college_data_variables.csv')\n",
    "ref['VARIABLE NAME'].unique()"
   ]
  },
  {
   "cell_type": "code",
   "execution_count": 3,
   "metadata": {
    "collapsed": true
   },
   "outputs": [],
   "source": [
    "# list of variables we want\n",
    "cols = ['PCIP01', 'PCIP03', 'PCIP04', 'PCIP05', 'PCIP09', 'PCIP10',\n",
    "       'PCIP11', 'PCIP12', 'PCIP13', 'PCIP14', 'PCIP15', 'PCIP16',\n",
    "       'PCIP19', 'PCIP22', 'PCIP23', 'PCIP24', 'PCIP25', 'PCIP26',\n",
    "       'PCIP27', 'PCIP29', 'PCIP30', 'PCIP31', 'PCIP38', 'PCIP39',\n",
    "       'PCIP40', 'PCIP41', 'PCIP42', 'PCIP43', 'PCIP44', 'PCIP45',\n",
    "       'PCIP46', 'PCIP47', 'PCIP48', 'PCIP49', 'PCIP50', 'PCIP51',\n",
    "       'PCIP52', 'PCIP54', 'CIP01BACHL', 'CIP03BACHL', 'CIP04BACHL',\n",
    "       'CIP05BACHL', 'CIP09BACHL', 'CIP10BACHL', 'CIP11BACHL',\n",
    "       'CIP12BACHL', 'CIP13BACHL', 'CIP14BACHL', 'CIP15BACHL',\n",
    "       'CIP16BACHL', 'CIP19BACHL', 'CIP22BACHL', 'CIP23BACHL',\n",
    "       'CIP24BACHL', 'CIP25BACHL', 'CIP26BACHL', 'CIP27BACHL',\n",
    "       'CIP29BACHL', 'CIP30BACHL', 'CIP31BACHL', 'CIP38BACHL',\n",
    "       'CIP39BACHL', 'CIP40BACHL', 'CIP41BACHL', 'CIP42BACHL',\n",
    "       'CIP43BACHL', 'CIP44BACHL', 'CIP45BACHL', 'CIP46BACHL',\n",
    "       'CIP47BACHL', 'CIP48BACHL', 'CIP49BACHL', 'CIP50BACHL',\n",
    "       'CIP51BACHL', 'CIP52BACHL', 'CIP54BACHL', 'ADM_RATE', 'SATVRMID',\n",
    "       'SATMTMID', 'SATWRMID', 'ACTCMMID', 'ACTENMID', 'ACTMTMID',\n",
    "       'ACTWRMID', 'PCTFLOAN', 'GRAD_DEBT_MDN', 'WDRAW_DEBT_MDN',\n",
    "       'LO_INC_DEBT_MDN', 'MD_INC_DEBT_MDN', 'HI_INC_DEBT_MDN', 'C150_4',\n",
    "       'TRANS_4', 'COSTT4_A', 'COSTT4_P', 'TUITIONFEE_IN',\n",
    "       'TUITIONFEE_OUT', 'MD_EARN_WNE_P6', 'CONTROL', 'REGION', 'LOCALE',\n",
    "       'LOCALE2', 'TUITFTE', 'INEXPFTE', 'AVGFACSAL', 'PFTFAC', 'UG',\n",
    "       'UG25ABV', 'PAR_ED_PCT_MS', 'PAR_ED_PCT_HS', 'PAR_ED_PCT_PS',\n",
    "       'AGE_ENTRY', 'FEMALE', 'D_PCTPELL_PCTFLOAN']"
   ]
  },
  {
   "cell_type": "code",
   "execution_count": 4,
   "metadata": {},
   "outputs": [
    {
     "name": "stderr",
     "output_type": "stream",
     "text": [
      "/Users/Andrew/anaconda3/envs/tensorflow/lib/python3.6/site-packages/IPython/core/interactiveshell.py:2728: DtypeWarning: Columns (6,9,1725,1726,1727,1728,1729,1743) have mixed types. Specify dtype option on import or set low_memory=False.\n",
      "  interactivity=interactivity, compiler=compiler, result=result)\n",
      "/Users/Andrew/anaconda3/envs/tensorflow/lib/python3.6/site-packages/IPython/core/interactiveshell.py:2728: DtypeWarning: Columns (6,1169,1170,1171,1172,1173,1174,1175,1177,1178,1179,1183,1184,1185,1186,1187,1188,1196,1199,1200,1201,1209,1212,1213,1214,1222,1223,1224,1225,1226,1227,1235,1236,1237,1238,1239,1240,1248,1250,1251,1252,1253,1255,1257,1261,1263,1264,1265,1266,1268,1270,1274,1275,1276,1277,1278,1279,1283,1287,1288,1289,1290,1291,1292,1296,1303,1316,1326,1327,1328,1329,1330,1331,1335,1339,1340,1341,1342,1343,1344,1348,1379,1380,1381,1382,1383,1384,1385,1386,1387,1388,1389,1390,1391,1392,1393,1394,1395,1396,1397,1398,1399,1400,1401,1402,1403,1404,1405,1406,1407,1411,1426,1427,1475,1476,1479,1480,1483,1484,1487,1488,1489,1490,1491,1492,1493,1494,1495,1496,1497,1498,1499,1500,1501,1502,1503,1517,1529,1530,1532,1537,1540,1541,1542,1575,1576,1577,1578,1579,1580,1581,1582,1583,1584,1585,1586,1587,1588,1589,1590,1591,1592,1593,1594,1595,1596,1597,1598,1599,1600,1601,1602,1606,1609,1610,1613,1614,1615,1708,1729) have mixed types. Specify dtype option on import or set low_memory=False.\n",
      "  interactivity=interactivity, compiler=compiler, result=result)\n",
      "/Users/Andrew/anaconda3/envs/tensorflow/lib/python3.6/site-packages/IPython/core/interactiveshell.py:2728: DtypeWarning: Columns (1537,1540,1542,1547,1548,1549,1561,1575,1606,1614,1615,1729) have mixed types. Specify dtype option on import or set low_memory=False.\n",
      "  interactivity=interactivity, compiler=compiler, result=result)\n",
      "/Users/Andrew/anaconda3/envs/tensorflow/lib/python3.6/site-packages/IPython/core/interactiveshell.py:2728: DtypeWarning: Columns (1537,1540,1542,1575,1606,1614,1615,1729) have mixed types. Specify dtype option on import or set low_memory=False.\n",
      "  interactivity=interactivity, compiler=compiler, result=result)\n"
     ]
    }
   ],
   "source": [
    "# read in large data sets\n",
    "big = pd.read_csv('~/desktop/CollegeScorecard_Raw_Data/MERGED2015_16_PP.csv')\n",
    "big2 = pd.read_csv('~/desktop/CollegeScorecard_Raw_Data/MERGED2014_15_PP.csv')\n",
    "big3 = pd.read_csv('~/desktop/CollegeScorecard_Raw_Data/MERGED2013_14_PP.csv')\n",
    "big4 = pd.read_csv('~/desktop/CollegeScorecard_Raw_Data/MERGED2012_13_PP.csv')\n",
    "big5 = pd.read_csv('~/desktop/CollegeScorecard_Raw_Data/MERGED2011_12_PP.csv')"
   ]
  },
  {
   "cell_type": "code",
   "execution_count": 5,
   "metadata": {
    "collapsed": true
   },
   "outputs": [],
   "source": [
    "def reduce(all_dfs, cols):\n",
    "    finished_dfs = []\n",
    "    for df in all_dfs:\n",
    "        # mask to selected variables\n",
    "        df = df[cols]\n",
    "        # drop all nan rows where % grad is nan\n",
    "        df.dropna(subset=['C150_4'], inplace=True)\n",
    "        # drop columns where all values are nan\n",
    "        df.dropna(how='all', axis=1, inplace=True)\n",
    "        # drop columns where more than 5% of values are nan\n",
    "        df.dropna(thresh=len(df)-len(df)/20, axis=1, inplace=True)\n",
    "        finished_dfs.append(df)\n",
    "        \n",
    "    return finished_dfs[0], finished_dfs[1], finished_dfs[2], finished_dfs[3], finished_dfs[4]"
   ]
  },
  {
   "cell_type": "code",
   "execution_count": 6,
   "metadata": {},
   "outputs": [
    {
     "name": "stderr",
     "output_type": "stream",
     "text": [
      "/Users/Andrew/anaconda3/envs/tensorflow/lib/python3.6/site-packages/ipykernel/__main__.py:7: SettingWithCopyWarning: \n",
      "A value is trying to be set on a copy of a slice from a DataFrame\n",
      "\n",
      "See the caveats in the documentation: http://pandas.pydata.org/pandas-docs/stable/indexing.html#indexing-view-versus-copy\n",
      "/Users/Andrew/anaconda3/envs/tensorflow/lib/python3.6/site-packages/ipykernel/__main__.py:9: SettingWithCopyWarning: \n",
      "A value is trying to be set on a copy of a slice from a DataFrame\n",
      "\n",
      "See the caveats in the documentation: http://pandas.pydata.org/pandas-docs/stable/indexing.html#indexing-view-versus-copy\n",
      "/Users/Andrew/anaconda3/envs/tensorflow/lib/python3.6/site-packages/ipykernel/__main__.py:11: SettingWithCopyWarning: \n",
      "A value is trying to be set on a copy of a slice from a DataFrame\n",
      "\n",
      "See the caveats in the documentation: http://pandas.pydata.org/pandas-docs/stable/indexing.html#indexing-view-versus-copy\n"
     ]
    }
   ],
   "source": [
    "# reduce all big dfs\n",
    "all_dfs = [big, big2, big3, big4, big5]\n",
    "d1, d2, d3, d4, d5 = reduce(all_dfs, cols)"
   ]
  },
  {
   "cell_type": "code",
   "execution_count": 7,
   "metadata": {
    "collapsed": true
   },
   "outputs": [],
   "source": [
    "def degree_less(df_list):\n",
    "    # list of subcategories for degree offerings\n",
    "    sci = ['PCIP01', 'PCIP03', 'PCIP26', 'PCIP27', 'PCIP11', 'PCIP40', 'PCIP41', 'PCIP19', 'PCIP25']\n",
    "    sci1 = ['CIP01BACHL', 'CIP03BACHL', 'CIP26BACHL', 'CIP27BACHL', 'CIP40BACHL', 'CIP41BACHL', 'CIP19BACHL', 'CIP30BACHL', 'CIP11BACHL']\n",
    "    soc = ['PCIP52', 'PCIP13', 'PCIP42', 'PCIP05', 'PCIP09', 'PCIP10', 'PCIP16', 'PCIP23', 'PCIP24', 'PCIP30', 'PCIP31', 'PCIP38', 'PCIP39', 'PCIP44', 'PCIP45', 'PCIP50', 'PCIP51', 'PCIP54']\n",
    "    soc1 = ['CIP05BACHL', 'CIP09BACHL', 'CIP10BACHL', 'CIP13BACHL', 'CIP16BACHL', 'CIP23BACHL', 'CIP24BACHL', 'CIP25BACHL', 'CIP31BACHL', 'CIP38BACHL', 'CIP39BACHL', 'CIP42BACHL', 'CIP44BACHL', 'CIP45BACHL', 'CIP50BACHL', 'CIP51BACHL', 'CIP52BACHL', 'CIP54BACHL']\n",
    "    tec = ['PCIP04', 'PCIP14', 'PCIP15', 'PCIP22', 'PCIP12', 'PCIP29', 'PCIP43', 'PCIP46', 'PCIP47', 'PCIP48', 'PCIP49']\n",
    "    tec1 = ['CIP04BACHL','CIP12BACHL', 'CIP14BACHL', 'CIP15BACHL', 'CIP22BACHL', 'CIP29BACHL','CIP43BACHL', 'CIP46BACHL', 'CIP47BACHL', 'CIP48BACHL', 'CIP49BACHL']\n",
    "    finished_dfs = []\n",
    "    for n, df in enumerate(df_list):\n",
    "        # add sum columns\n",
    "        df[f'percent_science{n}'] = df[sci].sum(axis=1)\n",
    "        df[f'percent_social{n}'] = df[soc].sum(axis=1)\n",
    "        df[f'percent_technical{n}'] = df[tec].sum(axis=1)\n",
    "        df[f'science_disciplines{n}'] = df[sci1].sum(axis=1)\n",
    "        df[f'social_disciplines{n}'] = df[soc1].sum(axis=1)\n",
    "        df[f'technical_disciplines{n}'] = df[tec1].sum(axis=1)\n",
    "    \n",
    "        # drop indiviudal degree columns\n",
    "        df.drop(sci, axis=1, inplace=True)\n",
    "        df.drop(sci1, axis=1, inplace=True)\n",
    "        df.drop(soc, axis=1, inplace=True)\n",
    "        df.drop(soc1, axis=1, inplace=True)\n",
    "        df.drop(tec, axis=1, inplace=True)\n",
    "        df.drop(tec1, axis=1, inplace=True)\n",
    "        \n",
    "        finished_dfs.append(df)\n",
    "        \n",
    "    return finished_dfs[0], finished_dfs[1], finished_dfs[2], finished_dfs[3], finished_dfs[4]"
   ]
  },
  {
   "cell_type": "code",
   "execution_count": 8,
   "metadata": {},
   "outputs": [
    {
     "name": "stderr",
     "output_type": "stream",
     "text": [
      "/Users/Andrew/anaconda3/envs/tensorflow/lib/python3.6/site-packages/ipykernel/__main__.py:12: SettingWithCopyWarning: \n",
      "A value is trying to be set on a copy of a slice from a DataFrame.\n",
      "Try using .loc[row_indexer,col_indexer] = value instead\n",
      "\n",
      "See the caveats in the documentation: http://pandas.pydata.org/pandas-docs/stable/indexing.html#indexing-view-versus-copy\n",
      "/Users/Andrew/anaconda3/envs/tensorflow/lib/python3.6/site-packages/ipykernel/__main__.py:13: SettingWithCopyWarning: \n",
      "A value is trying to be set on a copy of a slice from a DataFrame.\n",
      "Try using .loc[row_indexer,col_indexer] = value instead\n",
      "\n",
      "See the caveats in the documentation: http://pandas.pydata.org/pandas-docs/stable/indexing.html#indexing-view-versus-copy\n",
      "/Users/Andrew/anaconda3/envs/tensorflow/lib/python3.6/site-packages/ipykernel/__main__.py:14: SettingWithCopyWarning: \n",
      "A value is trying to be set on a copy of a slice from a DataFrame.\n",
      "Try using .loc[row_indexer,col_indexer] = value instead\n",
      "\n",
      "See the caveats in the documentation: http://pandas.pydata.org/pandas-docs/stable/indexing.html#indexing-view-versus-copy\n",
      "/Users/Andrew/anaconda3/envs/tensorflow/lib/python3.6/site-packages/ipykernel/__main__.py:15: SettingWithCopyWarning: \n",
      "A value is trying to be set on a copy of a slice from a DataFrame.\n",
      "Try using .loc[row_indexer,col_indexer] = value instead\n",
      "\n",
      "See the caveats in the documentation: http://pandas.pydata.org/pandas-docs/stable/indexing.html#indexing-view-versus-copy\n",
      "/Users/Andrew/anaconda3/envs/tensorflow/lib/python3.6/site-packages/ipykernel/__main__.py:16: SettingWithCopyWarning: \n",
      "A value is trying to be set on a copy of a slice from a DataFrame.\n",
      "Try using .loc[row_indexer,col_indexer] = value instead\n",
      "\n",
      "See the caveats in the documentation: http://pandas.pydata.org/pandas-docs/stable/indexing.html#indexing-view-versus-copy\n",
      "/Users/Andrew/anaconda3/envs/tensorflow/lib/python3.6/site-packages/ipykernel/__main__.py:17: SettingWithCopyWarning: \n",
      "A value is trying to be set on a copy of a slice from a DataFrame.\n",
      "Try using .loc[row_indexer,col_indexer] = value instead\n",
      "\n",
      "See the caveats in the documentation: http://pandas.pydata.org/pandas-docs/stable/indexing.html#indexing-view-versus-copy\n",
      "/Users/Andrew/anaconda3/envs/tensorflow/lib/python3.6/site-packages/ipykernel/__main__.py:20: SettingWithCopyWarning: \n",
      "A value is trying to be set on a copy of a slice from a DataFrame\n",
      "\n",
      "See the caveats in the documentation: http://pandas.pydata.org/pandas-docs/stable/indexing.html#indexing-view-versus-copy\n",
      "/Users/Andrew/anaconda3/envs/tensorflow/lib/python3.6/site-packages/ipykernel/__main__.py:21: SettingWithCopyWarning: \n",
      "A value is trying to be set on a copy of a slice from a DataFrame\n",
      "\n",
      "See the caveats in the documentation: http://pandas.pydata.org/pandas-docs/stable/indexing.html#indexing-view-versus-copy\n",
      "/Users/Andrew/anaconda3/envs/tensorflow/lib/python3.6/site-packages/ipykernel/__main__.py:22: SettingWithCopyWarning: \n",
      "A value is trying to be set on a copy of a slice from a DataFrame\n",
      "\n",
      "See the caveats in the documentation: http://pandas.pydata.org/pandas-docs/stable/indexing.html#indexing-view-versus-copy\n",
      "/Users/Andrew/anaconda3/envs/tensorflow/lib/python3.6/site-packages/ipykernel/__main__.py:23: SettingWithCopyWarning: \n",
      "A value is trying to be set on a copy of a slice from a DataFrame\n",
      "\n",
      "See the caveats in the documentation: http://pandas.pydata.org/pandas-docs/stable/indexing.html#indexing-view-versus-copy\n",
      "/Users/Andrew/anaconda3/envs/tensorflow/lib/python3.6/site-packages/ipykernel/__main__.py:24: SettingWithCopyWarning: \n",
      "A value is trying to be set on a copy of a slice from a DataFrame\n",
      "\n",
      "See the caveats in the documentation: http://pandas.pydata.org/pandas-docs/stable/indexing.html#indexing-view-versus-copy\n",
      "/Users/Andrew/anaconda3/envs/tensorflow/lib/python3.6/site-packages/ipykernel/__main__.py:25: SettingWithCopyWarning: \n",
      "A value is trying to be set on a copy of a slice from a DataFrame\n",
      "\n",
      "See the caveats in the documentation: http://pandas.pydata.org/pandas-docs/stable/indexing.html#indexing-view-versus-copy\n"
     ]
    }
   ],
   "source": [
    "# update all dfs with feature engineering\n",
    "df_list = [d1, d2, d3, d4, d5]\n",
    "df1, df2, df3, df4, df5 = degree_less(df_list)"
   ]
  },
  {
   "cell_type": "code",
   "execution_count": 9,
   "metadata": {},
   "outputs": [
    {
     "name": "stderr",
     "output_type": "stream",
     "text": [
      "/Users/Andrew/anaconda3/envs/tensorflow/lib/python3.6/site-packages/ipykernel/__main__.py:2: SettingWithCopyWarning: \n",
      "A value is trying to be set on a copy of a slice from a DataFrame.\n",
      "Try using .loc[row_indexer,col_indexer] = value instead\n",
      "\n",
      "See the caveats in the documentation: http://pandas.pydata.org/pandas-docs/stable/indexing.html#indexing-view-versus-copy\n",
      "  from ipykernel import kernelapp as app\n",
      "/Users/Andrew/anaconda3/envs/tensorflow/lib/python3.6/site-packages/ipykernel/__main__.py:3: SettingWithCopyWarning: \n",
      "A value is trying to be set on a copy of a slice from a DataFrame.\n",
      "Try using .loc[row_indexer,col_indexer] = value instead\n",
      "\n",
      "See the caveats in the documentation: http://pandas.pydata.org/pandas-docs/stable/indexing.html#indexing-view-versus-copy\n",
      "  app.launch_new_instance()\n",
      "/Users/Andrew/anaconda3/envs/tensorflow/lib/python3.6/site-packages/ipykernel/__main__.py:4: SettingWithCopyWarning: \n",
      "A value is trying to be set on a copy of a slice from a DataFrame.\n",
      "Try using .loc[row_indexer,col_indexer] = value instead\n",
      "\n",
      "See the caveats in the documentation: http://pandas.pydata.org/pandas-docs/stable/indexing.html#indexing-view-versus-copy\n",
      "/Users/Andrew/anaconda3/envs/tensorflow/lib/python3.6/site-packages/ipykernel/__main__.py:5: SettingWithCopyWarning: \n",
      "A value is trying to be set on a copy of a slice from a DataFrame.\n",
      "Try using .loc[row_indexer,col_indexer] = value instead\n",
      "\n",
      "See the caveats in the documentation: http://pandas.pydata.org/pandas-docs/stable/indexing.html#indexing-view-versus-copy\n",
      "/Users/Andrew/anaconda3/envs/tensorflow/lib/python3.6/site-packages/ipykernel/__main__.py:6: SettingWithCopyWarning: \n",
      "A value is trying to be set on a copy of a slice from a DataFrame.\n",
      "Try using .loc[row_indexer,col_indexer] = value instead\n",
      "\n",
      "See the caveats in the documentation: http://pandas.pydata.org/pandas-docs/stable/indexing.html#indexing-view-versus-copy\n",
      "/Users/Andrew/anaconda3/envs/tensorflow/lib/python3.6/site-packages/ipykernel/__main__.py:8: SettingWithCopyWarning: \n",
      "A value is trying to be set on a copy of a slice from a DataFrame.\n",
      "Try using .loc[row_indexer,col_indexer] = value instead\n",
      "\n",
      "See the caveats in the documentation: http://pandas.pydata.org/pandas-docs/stable/indexing.html#indexing-view-versus-copy\n",
      "/Users/Andrew/anaconda3/envs/tensorflow/lib/python3.6/site-packages/ipykernel/__main__.py:9: SettingWithCopyWarning: \n",
      "A value is trying to be set on a copy of a slice from a DataFrame.\n",
      "Try using .loc[row_indexer,col_indexer] = value instead\n",
      "\n",
      "See the caveats in the documentation: http://pandas.pydata.org/pandas-docs/stable/indexing.html#indexing-view-versus-copy\n",
      "/Users/Andrew/anaconda3/envs/tensorflow/lib/python3.6/site-packages/ipykernel/__main__.py:10: SettingWithCopyWarning: \n",
      "A value is trying to be set on a copy of a slice from a DataFrame.\n",
      "Try using .loc[row_indexer,col_indexer] = value instead\n",
      "\n",
      "See the caveats in the documentation: http://pandas.pydata.org/pandas-docs/stable/indexing.html#indexing-view-versus-copy\n",
      "/Users/Andrew/anaconda3/envs/tensorflow/lib/python3.6/site-packages/ipykernel/__main__.py:11: SettingWithCopyWarning: \n",
      "A value is trying to be set on a copy of a slice from a DataFrame.\n",
      "Try using .loc[row_indexer,col_indexer] = value instead\n",
      "\n",
      "See the caveats in the documentation: http://pandas.pydata.org/pandas-docs/stable/indexing.html#indexing-view-versus-copy\n",
      "/Users/Andrew/anaconda3/envs/tensorflow/lib/python3.6/site-packages/ipykernel/__main__.py:12: SettingWithCopyWarning: \n",
      "A value is trying to be set on a copy of a slice from a DataFrame.\n",
      "Try using .loc[row_indexer,col_indexer] = value instead\n",
      "\n",
      "See the caveats in the documentation: http://pandas.pydata.org/pandas-docs/stable/indexing.html#indexing-view-versus-copy\n"
     ]
    }
   ],
   "source": [
    "# Turn all 'PrivacySuppressed' into np.nan and make everyting into floats\n",
    "df1['GRAD_DEBT_MDN'] = df1['GRAD_DEBT_MDN'].apply(lambda x : np.nan if x == 'PrivacySuppressed' else float(x))\n",
    "df1['WDRAW_DEBT_MDN'] = df1['WDRAW_DEBT_MDN'].apply(lambda x : np.nan if x == 'PrivacySuppressed' else float(x))\n",
    "df1['LO_INC_DEBT_MDN'] = df1['LO_INC_DEBT_MDN'].apply(lambda x : np.nan if x == 'PrivacySuppressed' else float(x))\n",
    "df1['MD_INC_DEBT_MDN'] = df1['MD_INC_DEBT_MDN'].apply(lambda x : np.nan if x == 'PrivacySuppressed' else float(x))\n",
    "df1['HI_INC_DEBT_MDN'] = df1['HI_INC_DEBT_MDN'].apply(lambda x : np.nan if x == 'PrivacySuppressed' else float(x))\n",
    "\n",
    "df1['PAR_ED_PCT_MS'] = df1['PAR_ED_PCT_MS'].apply(lambda x : np.nan if x == 'PrivacySuppressed' else float(x))\n",
    "df1['PAR_ED_PCT_HS'] = df1['PAR_ED_PCT_HS'].apply(lambda x : np.nan if x == 'PrivacySuppressed' else float(x))\n",
    "df1['PAR_ED_PCT_PS'] = df1['PAR_ED_PCT_PS'].apply(lambda x : np.nan if x == 'PrivacySuppressed' else float(x))\n",
    "df1['AGE_ENTRY'] = df1['AGE_ENTRY'].apply(lambda x : np.nan if x == 'PrivacySuppressed' else float(x))\n",
    "df1['FEMALE'] = df1['FEMALE'].apply(lambda x : np.nan if x == 'PrivacySuppressed' else float(x))"
   ]
  },
  {
   "cell_type": "code",
   "execution_count": 10,
   "metadata": {},
   "outputs": [
    {
     "name": "stderr",
     "output_type": "stream",
     "text": [
      "/Users/Andrew/anaconda3/envs/tensorflow/lib/python3.6/site-packages/ipykernel/__main__.py:2: SettingWithCopyWarning: \n",
      "A value is trying to be set on a copy of a slice from a DataFrame.\n",
      "Try using .loc[row_indexer,col_indexer] = value instead\n",
      "\n",
      "See the caveats in the documentation: http://pandas.pydata.org/pandas-docs/stable/indexing.html#indexing-view-versus-copy\n",
      "  from ipykernel import kernelapp as app\n",
      "/Users/Andrew/anaconda3/envs/tensorflow/lib/python3.6/site-packages/ipykernel/__main__.py:3: SettingWithCopyWarning: \n",
      "A value is trying to be set on a copy of a slice from a DataFrame.\n",
      "Try using .loc[row_indexer,col_indexer] = value instead\n",
      "\n",
      "See the caveats in the documentation: http://pandas.pydata.org/pandas-docs/stable/indexing.html#indexing-view-versus-copy\n",
      "  app.launch_new_instance()\n",
      "/Users/Andrew/anaconda3/envs/tensorflow/lib/python3.6/site-packages/ipykernel/__main__.py:4: SettingWithCopyWarning: \n",
      "A value is trying to be set on a copy of a slice from a DataFrame.\n",
      "Try using .loc[row_indexer,col_indexer] = value instead\n",
      "\n",
      "See the caveats in the documentation: http://pandas.pydata.org/pandas-docs/stable/indexing.html#indexing-view-versus-copy\n",
      "/Users/Andrew/anaconda3/envs/tensorflow/lib/python3.6/site-packages/ipykernel/__main__.py:5: SettingWithCopyWarning: \n",
      "A value is trying to be set on a copy of a slice from a DataFrame.\n",
      "Try using .loc[row_indexer,col_indexer] = value instead\n",
      "\n",
      "See the caveats in the documentation: http://pandas.pydata.org/pandas-docs/stable/indexing.html#indexing-view-versus-copy\n",
      "/Users/Andrew/anaconda3/envs/tensorflow/lib/python3.6/site-packages/ipykernel/__main__.py:6: SettingWithCopyWarning: \n",
      "A value is trying to be set on a copy of a slice from a DataFrame.\n",
      "Try using .loc[row_indexer,col_indexer] = value instead\n",
      "\n",
      "See the caveats in the documentation: http://pandas.pydata.org/pandas-docs/stable/indexing.html#indexing-view-versus-copy\n",
      "/Users/Andrew/anaconda3/envs/tensorflow/lib/python3.6/site-packages/ipykernel/__main__.py:8: SettingWithCopyWarning: \n",
      "A value is trying to be set on a copy of a slice from a DataFrame.\n",
      "Try using .loc[row_indexer,col_indexer] = value instead\n",
      "\n",
      "See the caveats in the documentation: http://pandas.pydata.org/pandas-docs/stable/indexing.html#indexing-view-versus-copy\n",
      "/Users/Andrew/anaconda3/envs/tensorflow/lib/python3.6/site-packages/ipykernel/__main__.py:9: SettingWithCopyWarning: \n",
      "A value is trying to be set on a copy of a slice from a DataFrame.\n",
      "Try using .loc[row_indexer,col_indexer] = value instead\n",
      "\n",
      "See the caveats in the documentation: http://pandas.pydata.org/pandas-docs/stable/indexing.html#indexing-view-versus-copy\n",
      "/Users/Andrew/anaconda3/envs/tensorflow/lib/python3.6/site-packages/ipykernel/__main__.py:10: SettingWithCopyWarning: \n",
      "A value is trying to be set on a copy of a slice from a DataFrame.\n",
      "Try using .loc[row_indexer,col_indexer] = value instead\n",
      "\n",
      "See the caveats in the documentation: http://pandas.pydata.org/pandas-docs/stable/indexing.html#indexing-view-versus-copy\n",
      "/Users/Andrew/anaconda3/envs/tensorflow/lib/python3.6/site-packages/ipykernel/__main__.py:11: SettingWithCopyWarning: \n",
      "A value is trying to be set on a copy of a slice from a DataFrame.\n",
      "Try using .loc[row_indexer,col_indexer] = value instead\n",
      "\n",
      "See the caveats in the documentation: http://pandas.pydata.org/pandas-docs/stable/indexing.html#indexing-view-versus-copy\n",
      "/Users/Andrew/anaconda3/envs/tensorflow/lib/python3.6/site-packages/ipykernel/__main__.py:12: SettingWithCopyWarning: \n",
      "A value is trying to be set on a copy of a slice from a DataFrame.\n",
      "Try using .loc[row_indexer,col_indexer] = value instead\n",
      "\n",
      "See the caveats in the documentation: http://pandas.pydata.org/pandas-docs/stable/indexing.html#indexing-view-versus-copy\n"
     ]
    }
   ],
   "source": [
    "# Turn all 'PrivacySuppressed' into np.nan and make everyting into floats\n",
    "df2['GRAD_DEBT_MDN'] = df2['GRAD_DEBT_MDN'].apply(lambda x : np.nan if x == 'PrivacySuppressed' else float(x))\n",
    "df2['WDRAW_DEBT_MDN'] = df2['WDRAW_DEBT_MDN'].apply(lambda x : np.nan if x == 'PrivacySuppressed' else float(x))\n",
    "df2['LO_INC_DEBT_MDN'] = df2['LO_INC_DEBT_MDN'].apply(lambda x : np.nan if x == 'PrivacySuppressed' else float(x))\n",
    "df2['MD_INC_DEBT_MDN'] = df2['MD_INC_DEBT_MDN'].apply(lambda x : np.nan if x == 'PrivacySuppressed' else float(x))\n",
    "df2['HI_INC_DEBT_MDN'] = df2['HI_INC_DEBT_MDN'].apply(lambda x : np.nan if x == 'PrivacySuppressed' else float(x))\n",
    "\n",
    "df2['PAR_ED_PCT_MS'] = df2['PAR_ED_PCT_MS'].apply(lambda x : np.nan if x == 'PrivacySuppressed' else float(x))\n",
    "df2['PAR_ED_PCT_HS'] = df2['PAR_ED_PCT_HS'].apply(lambda x : np.nan if x == 'PrivacySuppressed' else float(x))\n",
    "df2['PAR_ED_PCT_PS'] = df2['PAR_ED_PCT_PS'].apply(lambda x : np.nan if x == 'PrivacySuppressed' else float(x))\n",
    "df2['AGE_ENTRY'] = df2['AGE_ENTRY'].apply(lambda x : np.nan if x == 'PrivacySuppressed' else float(x))\n",
    "df2['FEMALE'] = df2['FEMALE'].apply(lambda x : np.nan if x == 'PrivacySuppressed' else float(x))"
   ]
  },
  {
   "cell_type": "code",
   "execution_count": 11,
   "metadata": {},
   "outputs": [
    {
     "name": "stderr",
     "output_type": "stream",
     "text": [
      "/Users/Andrew/anaconda3/envs/tensorflow/lib/python3.6/site-packages/ipykernel/__main__.py:2: SettingWithCopyWarning: \n",
      "A value is trying to be set on a copy of a slice from a DataFrame.\n",
      "Try using .loc[row_indexer,col_indexer] = value instead\n",
      "\n",
      "See the caveats in the documentation: http://pandas.pydata.org/pandas-docs/stable/indexing.html#indexing-view-versus-copy\n",
      "  from ipykernel import kernelapp as app\n",
      "/Users/Andrew/anaconda3/envs/tensorflow/lib/python3.6/site-packages/ipykernel/__main__.py:3: SettingWithCopyWarning: \n",
      "A value is trying to be set on a copy of a slice from a DataFrame.\n",
      "Try using .loc[row_indexer,col_indexer] = value instead\n",
      "\n",
      "See the caveats in the documentation: http://pandas.pydata.org/pandas-docs/stable/indexing.html#indexing-view-versus-copy\n",
      "  app.launch_new_instance()\n",
      "/Users/Andrew/anaconda3/envs/tensorflow/lib/python3.6/site-packages/ipykernel/__main__.py:4: SettingWithCopyWarning: \n",
      "A value is trying to be set on a copy of a slice from a DataFrame.\n",
      "Try using .loc[row_indexer,col_indexer] = value instead\n",
      "\n",
      "See the caveats in the documentation: http://pandas.pydata.org/pandas-docs/stable/indexing.html#indexing-view-versus-copy\n",
      "/Users/Andrew/anaconda3/envs/tensorflow/lib/python3.6/site-packages/ipykernel/__main__.py:5: SettingWithCopyWarning: \n",
      "A value is trying to be set on a copy of a slice from a DataFrame.\n",
      "Try using .loc[row_indexer,col_indexer] = value instead\n",
      "\n",
      "See the caveats in the documentation: http://pandas.pydata.org/pandas-docs/stable/indexing.html#indexing-view-versus-copy\n",
      "/Users/Andrew/anaconda3/envs/tensorflow/lib/python3.6/site-packages/ipykernel/__main__.py:6: SettingWithCopyWarning: \n",
      "A value is trying to be set on a copy of a slice from a DataFrame.\n",
      "Try using .loc[row_indexer,col_indexer] = value instead\n",
      "\n",
      "See the caveats in the documentation: http://pandas.pydata.org/pandas-docs/stable/indexing.html#indexing-view-versus-copy\n",
      "/Users/Andrew/anaconda3/envs/tensorflow/lib/python3.6/site-packages/ipykernel/__main__.py:8: SettingWithCopyWarning: \n",
      "A value is trying to be set on a copy of a slice from a DataFrame.\n",
      "Try using .loc[row_indexer,col_indexer] = value instead\n",
      "\n",
      "See the caveats in the documentation: http://pandas.pydata.org/pandas-docs/stable/indexing.html#indexing-view-versus-copy\n",
      "/Users/Andrew/anaconda3/envs/tensorflow/lib/python3.6/site-packages/ipykernel/__main__.py:10: SettingWithCopyWarning: \n",
      "A value is trying to be set on a copy of a slice from a DataFrame.\n",
      "Try using .loc[row_indexer,col_indexer] = value instead\n",
      "\n",
      "See the caveats in the documentation: http://pandas.pydata.org/pandas-docs/stable/indexing.html#indexing-view-versus-copy\n",
      "/Users/Andrew/anaconda3/envs/tensorflow/lib/python3.6/site-packages/ipykernel/__main__.py:11: SettingWithCopyWarning: \n",
      "A value is trying to be set on a copy of a slice from a DataFrame.\n",
      "Try using .loc[row_indexer,col_indexer] = value instead\n",
      "\n",
      "See the caveats in the documentation: http://pandas.pydata.org/pandas-docs/stable/indexing.html#indexing-view-versus-copy\n",
      "/Users/Andrew/anaconda3/envs/tensorflow/lib/python3.6/site-packages/ipykernel/__main__.py:12: SettingWithCopyWarning: \n",
      "A value is trying to be set on a copy of a slice from a DataFrame.\n",
      "Try using .loc[row_indexer,col_indexer] = value instead\n",
      "\n",
      "See the caveats in the documentation: http://pandas.pydata.org/pandas-docs/stable/indexing.html#indexing-view-versus-copy\n",
      "/Users/Andrew/anaconda3/envs/tensorflow/lib/python3.6/site-packages/ipykernel/__main__.py:13: SettingWithCopyWarning: \n",
      "A value is trying to be set on a copy of a slice from a DataFrame.\n",
      "Try using .loc[row_indexer,col_indexer] = value instead\n",
      "\n",
      "See the caveats in the documentation: http://pandas.pydata.org/pandas-docs/stable/indexing.html#indexing-view-versus-copy\n",
      "/Users/Andrew/anaconda3/envs/tensorflow/lib/python3.6/site-packages/ipykernel/__main__.py:14: SettingWithCopyWarning: \n",
      "A value is trying to be set on a copy of a slice from a DataFrame.\n",
      "Try using .loc[row_indexer,col_indexer] = value instead\n",
      "\n",
      "See the caveats in the documentation: http://pandas.pydata.org/pandas-docs/stable/indexing.html#indexing-view-versus-copy\n"
     ]
    }
   ],
   "source": [
    "# Turn all 'PrivacySuppressed' into np.nan and make everyting into floats\n",
    "df3['GRAD_DEBT_MDN'] = df3['GRAD_DEBT_MDN'].apply(lambda x : np.nan if x == 'PrivacySuppressed' else float(x))\n",
    "df3['WDRAW_DEBT_MDN'] = df3['WDRAW_DEBT_MDN'].apply(lambda x : np.nan if x == 'PrivacySuppressed' else float(x))\n",
    "df3['LO_INC_DEBT_MDN'] = df3['LO_INC_DEBT_MDN'].apply(lambda x : np.nan if x == 'PrivacySuppressed' else float(x))\n",
    "df3['MD_INC_DEBT_MDN'] = df3['MD_INC_DEBT_MDN'].apply(lambda x : np.nan if x == 'PrivacySuppressed' else float(x))\n",
    "df3['HI_INC_DEBT_MDN'] = df3['HI_INC_DEBT_MDN'].apply(lambda x : np.nan if x == 'PrivacySuppressed' else float(x))\n",
    "\n",
    "df3['MD_EARN_WNE_P6'] = df3['MD_EARN_WNE_P6'].apply(lambda x : np.nan if x == 'PrivacySuppressed' else float(x))\n",
    "\n",
    "df3['PAR_ED_PCT_MS'] = df3['PAR_ED_PCT_MS'].apply(lambda x : np.nan if x == 'PrivacySuppressed' else float(x))\n",
    "df3['PAR_ED_PCT_HS'] = df3['PAR_ED_PCT_HS'].apply(lambda x : np.nan if x == 'PrivacySuppressed' else float(x))\n",
    "df3['PAR_ED_PCT_PS'] = df3['PAR_ED_PCT_PS'].apply(lambda x : np.nan if x == 'PrivacySuppressed' else float(x))\n",
    "df3['AGE_ENTRY'] = df3['AGE_ENTRY'].apply(lambda x : np.nan if x == 'PrivacySuppressed' else float(x))\n",
    "df3['FEMALE'] = df3['FEMALE'].apply(lambda x : np.nan if x == 'PrivacySuppressed' else float(x))"
   ]
  },
  {
   "cell_type": "code",
   "execution_count": 12,
   "metadata": {},
   "outputs": [
    {
     "name": "stderr",
     "output_type": "stream",
     "text": [
      "/Users/Andrew/anaconda3/envs/tensorflow/lib/python3.6/site-packages/ipykernel/__main__.py:2: SettingWithCopyWarning: \n",
      "A value is trying to be set on a copy of a slice from a DataFrame.\n",
      "Try using .loc[row_indexer,col_indexer] = value instead\n",
      "\n",
      "See the caveats in the documentation: http://pandas.pydata.org/pandas-docs/stable/indexing.html#indexing-view-versus-copy\n",
      "  from ipykernel import kernelapp as app\n",
      "/Users/Andrew/anaconda3/envs/tensorflow/lib/python3.6/site-packages/ipykernel/__main__.py:3: SettingWithCopyWarning: \n",
      "A value is trying to be set on a copy of a slice from a DataFrame.\n",
      "Try using .loc[row_indexer,col_indexer] = value instead\n",
      "\n",
      "See the caveats in the documentation: http://pandas.pydata.org/pandas-docs/stable/indexing.html#indexing-view-versus-copy\n",
      "  app.launch_new_instance()\n",
      "/Users/Andrew/anaconda3/envs/tensorflow/lib/python3.6/site-packages/ipykernel/__main__.py:4: SettingWithCopyWarning: \n",
      "A value is trying to be set on a copy of a slice from a DataFrame.\n",
      "Try using .loc[row_indexer,col_indexer] = value instead\n",
      "\n",
      "See the caveats in the documentation: http://pandas.pydata.org/pandas-docs/stable/indexing.html#indexing-view-versus-copy\n",
      "/Users/Andrew/anaconda3/envs/tensorflow/lib/python3.6/site-packages/ipykernel/__main__.py:5: SettingWithCopyWarning: \n",
      "A value is trying to be set on a copy of a slice from a DataFrame.\n",
      "Try using .loc[row_indexer,col_indexer] = value instead\n",
      "\n",
      "See the caveats in the documentation: http://pandas.pydata.org/pandas-docs/stable/indexing.html#indexing-view-versus-copy\n",
      "/Users/Andrew/anaconda3/envs/tensorflow/lib/python3.6/site-packages/ipykernel/__main__.py:6: SettingWithCopyWarning: \n",
      "A value is trying to be set on a copy of a slice from a DataFrame.\n",
      "Try using .loc[row_indexer,col_indexer] = value instead\n",
      "\n",
      "See the caveats in the documentation: http://pandas.pydata.org/pandas-docs/stable/indexing.html#indexing-view-versus-copy\n",
      "/Users/Andrew/anaconda3/envs/tensorflow/lib/python3.6/site-packages/ipykernel/__main__.py:8: SettingWithCopyWarning: \n",
      "A value is trying to be set on a copy of a slice from a DataFrame.\n",
      "Try using .loc[row_indexer,col_indexer] = value instead\n",
      "\n",
      "See the caveats in the documentation: http://pandas.pydata.org/pandas-docs/stable/indexing.html#indexing-view-versus-copy\n",
      "/Users/Andrew/anaconda3/envs/tensorflow/lib/python3.6/site-packages/ipykernel/__main__.py:10: SettingWithCopyWarning: \n",
      "A value is trying to be set on a copy of a slice from a DataFrame.\n",
      "Try using .loc[row_indexer,col_indexer] = value instead\n",
      "\n",
      "See the caveats in the documentation: http://pandas.pydata.org/pandas-docs/stable/indexing.html#indexing-view-versus-copy\n",
      "/Users/Andrew/anaconda3/envs/tensorflow/lib/python3.6/site-packages/ipykernel/__main__.py:11: SettingWithCopyWarning: \n",
      "A value is trying to be set on a copy of a slice from a DataFrame.\n",
      "Try using .loc[row_indexer,col_indexer] = value instead\n",
      "\n",
      "See the caveats in the documentation: http://pandas.pydata.org/pandas-docs/stable/indexing.html#indexing-view-versus-copy\n",
      "/Users/Andrew/anaconda3/envs/tensorflow/lib/python3.6/site-packages/ipykernel/__main__.py:12: SettingWithCopyWarning: \n",
      "A value is trying to be set on a copy of a slice from a DataFrame.\n",
      "Try using .loc[row_indexer,col_indexer] = value instead\n",
      "\n",
      "See the caveats in the documentation: http://pandas.pydata.org/pandas-docs/stable/indexing.html#indexing-view-versus-copy\n",
      "/Users/Andrew/anaconda3/envs/tensorflow/lib/python3.6/site-packages/ipykernel/__main__.py:13: SettingWithCopyWarning: \n",
      "A value is trying to be set on a copy of a slice from a DataFrame.\n",
      "Try using .loc[row_indexer,col_indexer] = value instead\n",
      "\n",
      "See the caveats in the documentation: http://pandas.pydata.org/pandas-docs/stable/indexing.html#indexing-view-versus-copy\n",
      "/Users/Andrew/anaconda3/envs/tensorflow/lib/python3.6/site-packages/ipykernel/__main__.py:14: SettingWithCopyWarning: \n",
      "A value is trying to be set on a copy of a slice from a DataFrame.\n",
      "Try using .loc[row_indexer,col_indexer] = value instead\n",
      "\n",
      "See the caveats in the documentation: http://pandas.pydata.org/pandas-docs/stable/indexing.html#indexing-view-versus-copy\n"
     ]
    }
   ],
   "source": [
    "# Turn all 'PrivacySuppressed' into np.nan and make everyting into floats\n",
    "df4['GRAD_DEBT_MDN'] = df4['GRAD_DEBT_MDN'].apply(lambda x : np.nan if x == 'PrivacySuppressed' else float(x))\n",
    "df4['WDRAW_DEBT_MDN'] = df4['WDRAW_DEBT_MDN'].apply(lambda x : np.nan if x == 'PrivacySuppressed' else float(x))\n",
    "df4['LO_INC_DEBT_MDN'] = df4['LO_INC_DEBT_MDN'].apply(lambda x : np.nan if x == 'PrivacySuppressed' else float(x))\n",
    "df4['MD_INC_DEBT_MDN'] = df4['MD_INC_DEBT_MDN'].apply(lambda x : np.nan if x == 'PrivacySuppressed' else float(x))\n",
    "df4['HI_INC_DEBT_MDN'] = df4['HI_INC_DEBT_MDN'].apply(lambda x : np.nan if x == 'PrivacySuppressed' else float(x))\n",
    "\n",
    "df4['MD_EARN_WNE_P6'] = df4['MD_EARN_WNE_P6'].apply(lambda x : np.nan if x == 'PrivacySuppressed' else float(x))\n",
    "\n",
    "df4['PAR_ED_PCT_MS'] = df4['PAR_ED_PCT_MS'].apply(lambda x : np.nan if x == 'PrivacySuppressed' else float(x))\n",
    "df4['PAR_ED_PCT_HS'] = df4['PAR_ED_PCT_HS'].apply(lambda x : np.nan if x == 'PrivacySuppressed' else float(x))\n",
    "df4['PAR_ED_PCT_PS'] = df4['PAR_ED_PCT_PS'].apply(lambda x : np.nan if x == 'PrivacySuppressed' else float(x))\n",
    "df4['AGE_ENTRY'] = df4['AGE_ENTRY'].apply(lambda x : np.nan if x == 'PrivacySuppressed' else float(x))\n",
    "df4['FEMALE'] = df4['FEMALE'].apply(lambda x : np.nan if x == 'PrivacySuppressed' else float(x))"
   ]
  },
  {
   "cell_type": "code",
   "execution_count": 13,
   "metadata": {},
   "outputs": [
    {
     "name": "stderr",
     "output_type": "stream",
     "text": [
      "/Users/Andrew/anaconda3/envs/tensorflow/lib/python3.6/site-packages/ipykernel/__main__.py:2: SettingWithCopyWarning: \n",
      "A value is trying to be set on a copy of a slice from a DataFrame.\n",
      "Try using .loc[row_indexer,col_indexer] = value instead\n",
      "\n",
      "See the caveats in the documentation: http://pandas.pydata.org/pandas-docs/stable/indexing.html#indexing-view-versus-copy\n",
      "  from ipykernel import kernelapp as app\n",
      "/Users/Andrew/anaconda3/envs/tensorflow/lib/python3.6/site-packages/ipykernel/__main__.py:3: SettingWithCopyWarning: \n",
      "A value is trying to be set on a copy of a slice from a DataFrame.\n",
      "Try using .loc[row_indexer,col_indexer] = value instead\n",
      "\n",
      "See the caveats in the documentation: http://pandas.pydata.org/pandas-docs/stable/indexing.html#indexing-view-versus-copy\n",
      "  app.launch_new_instance()\n",
      "/Users/Andrew/anaconda3/envs/tensorflow/lib/python3.6/site-packages/ipykernel/__main__.py:4: SettingWithCopyWarning: \n",
      "A value is trying to be set on a copy of a slice from a DataFrame.\n",
      "Try using .loc[row_indexer,col_indexer] = value instead\n",
      "\n",
      "See the caveats in the documentation: http://pandas.pydata.org/pandas-docs/stable/indexing.html#indexing-view-versus-copy\n",
      "/Users/Andrew/anaconda3/envs/tensorflow/lib/python3.6/site-packages/ipykernel/__main__.py:5: SettingWithCopyWarning: \n",
      "A value is trying to be set on a copy of a slice from a DataFrame.\n",
      "Try using .loc[row_indexer,col_indexer] = value instead\n",
      "\n",
      "See the caveats in the documentation: http://pandas.pydata.org/pandas-docs/stable/indexing.html#indexing-view-versus-copy\n",
      "/Users/Andrew/anaconda3/envs/tensorflow/lib/python3.6/site-packages/ipykernel/__main__.py:6: SettingWithCopyWarning: \n",
      "A value is trying to be set on a copy of a slice from a DataFrame.\n",
      "Try using .loc[row_indexer,col_indexer] = value instead\n",
      "\n",
      "See the caveats in the documentation: http://pandas.pydata.org/pandas-docs/stable/indexing.html#indexing-view-versus-copy\n",
      "/Users/Andrew/anaconda3/envs/tensorflow/lib/python3.6/site-packages/ipykernel/__main__.py:8: SettingWithCopyWarning: \n",
      "A value is trying to be set on a copy of a slice from a DataFrame.\n",
      "Try using .loc[row_indexer,col_indexer] = value instead\n",
      "\n",
      "See the caveats in the documentation: http://pandas.pydata.org/pandas-docs/stable/indexing.html#indexing-view-versus-copy\n",
      "/Users/Andrew/anaconda3/envs/tensorflow/lib/python3.6/site-packages/ipykernel/__main__.py:10: SettingWithCopyWarning: \n",
      "A value is trying to be set on a copy of a slice from a DataFrame.\n",
      "Try using .loc[row_indexer,col_indexer] = value instead\n",
      "\n",
      "See the caveats in the documentation: http://pandas.pydata.org/pandas-docs/stable/indexing.html#indexing-view-versus-copy\n",
      "/Users/Andrew/anaconda3/envs/tensorflow/lib/python3.6/site-packages/ipykernel/__main__.py:11: SettingWithCopyWarning: \n",
      "A value is trying to be set on a copy of a slice from a DataFrame.\n",
      "Try using .loc[row_indexer,col_indexer] = value instead\n",
      "\n",
      "See the caveats in the documentation: http://pandas.pydata.org/pandas-docs/stable/indexing.html#indexing-view-versus-copy\n",
      "/Users/Andrew/anaconda3/envs/tensorflow/lib/python3.6/site-packages/ipykernel/__main__.py:12: SettingWithCopyWarning: \n",
      "A value is trying to be set on a copy of a slice from a DataFrame.\n",
      "Try using .loc[row_indexer,col_indexer] = value instead\n",
      "\n",
      "See the caveats in the documentation: http://pandas.pydata.org/pandas-docs/stable/indexing.html#indexing-view-versus-copy\n",
      "/Users/Andrew/anaconda3/envs/tensorflow/lib/python3.6/site-packages/ipykernel/__main__.py:13: SettingWithCopyWarning: \n",
      "A value is trying to be set on a copy of a slice from a DataFrame.\n",
      "Try using .loc[row_indexer,col_indexer] = value instead\n",
      "\n",
      "See the caveats in the documentation: http://pandas.pydata.org/pandas-docs/stable/indexing.html#indexing-view-versus-copy\n",
      "/Users/Andrew/anaconda3/envs/tensorflow/lib/python3.6/site-packages/ipykernel/__main__.py:14: SettingWithCopyWarning: \n",
      "A value is trying to be set on a copy of a slice from a DataFrame.\n",
      "Try using .loc[row_indexer,col_indexer] = value instead\n",
      "\n",
      "See the caveats in the documentation: http://pandas.pydata.org/pandas-docs/stable/indexing.html#indexing-view-versus-copy\n"
     ]
    }
   ],
   "source": [
    "# Turn all 'PrivacySuppressed' into np.nan and make everyting into floats\n",
    "df5['GRAD_DEBT_MDN'] = df5['GRAD_DEBT_MDN'].apply(lambda x : np.nan if x == 'PrivacySuppressed' else float(x))\n",
    "df5['WDRAW_DEBT_MDN'] = df5['WDRAW_DEBT_MDN'].apply(lambda x : np.nan if x == 'PrivacySuppressed' else float(x))\n",
    "df5['LO_INC_DEBT_MDN'] = df5['LO_INC_DEBT_MDN'].apply(lambda x : np.nan if x == 'PrivacySuppressed' else float(x))\n",
    "df5['MD_INC_DEBT_MDN'] = df5['MD_INC_DEBT_MDN'].apply(lambda x : np.nan if x == 'PrivacySuppressed' else float(x))\n",
    "df5['HI_INC_DEBT_MDN'] = df5['HI_INC_DEBT_MDN'].apply(lambda x : np.nan if x == 'PrivacySuppressed' else float(x))\n",
    "\n",
    "df5['MD_EARN_WNE_P6'] = df5['MD_EARN_WNE_P6'].apply(lambda x : np.nan if x == 'PrivacySuppressed' else float(x))\n",
    "\n",
    "df5['PAR_ED_PCT_MS'] = df5['PAR_ED_PCT_MS'].apply(lambda x : np.nan if x == 'PrivacySuppressed' else float(x))\n",
    "df5['PAR_ED_PCT_HS'] = df5['PAR_ED_PCT_HS'].apply(lambda x : np.nan if x == 'PrivacySuppressed' else float(x))\n",
    "df5['PAR_ED_PCT_PS'] = df5['PAR_ED_PCT_PS'].apply(lambda x : np.nan if x == 'PrivacySuppressed' else float(x))\n",
    "df5['AGE_ENTRY'] = df5['AGE_ENTRY'].apply(lambda x : np.nan if x == 'PrivacySuppressed' else float(x))\n",
    "df5['FEMALE'] = df5['FEMALE'].apply(lambda x : np.nan if x == 'PrivacySuppressed' else float(x))"
   ]
  },
  {
   "cell_type": "code",
   "execution_count": 14,
   "metadata": {},
   "outputs": [
    {
     "name": "stderr",
     "output_type": "stream",
     "text": [
      "/Users/Andrew/anaconda3/envs/tensorflow/lib/python3.6/site-packages/ipykernel/__main__.py:2: SettingWithCopyWarning: \n",
      "A value is trying to be set on a copy of a slice from a DataFrame\n",
      "\n",
      "See the caveats in the documentation: http://pandas.pydata.org/pandas-docs/stable/indexing.html#indexing-view-versus-copy\n",
      "  from ipykernel import kernelapp as app\n",
      "/Users/Andrew/anaconda3/envs/tensorflow/lib/python3.6/site-packages/ipykernel/__main__.py:3: SettingWithCopyWarning: \n",
      "A value is trying to be set on a copy of a slice from a DataFrame\n",
      "\n",
      "See the caveats in the documentation: http://pandas.pydata.org/pandas-docs/stable/indexing.html#indexing-view-versus-copy\n",
      "  app.launch_new_instance()\n",
      "/Users/Andrew/anaconda3/envs/tensorflow/lib/python3.6/site-packages/ipykernel/__main__.py:4: SettingWithCopyWarning: \n",
      "A value is trying to be set on a copy of a slice from a DataFrame\n",
      "\n",
      "See the caveats in the documentation: http://pandas.pydata.org/pandas-docs/stable/indexing.html#indexing-view-versus-copy\n",
      "/Users/Andrew/anaconda3/envs/tensorflow/lib/python3.6/site-packages/ipykernel/__main__.py:5: SettingWithCopyWarning: \n",
      "A value is trying to be set on a copy of a slice from a DataFrame\n",
      "\n",
      "See the caveats in the documentation: http://pandas.pydata.org/pandas-docs/stable/indexing.html#indexing-view-versus-copy\n",
      "/Users/Andrew/anaconda3/envs/tensorflow/lib/python3.6/site-packages/ipykernel/__main__.py:6: SettingWithCopyWarning: \n",
      "A value is trying to be set on a copy of a slice from a DataFrame\n",
      "\n",
      "See the caveats in the documentation: http://pandas.pydata.org/pandas-docs/stable/indexing.html#indexing-view-versus-copy\n"
     ]
    }
   ],
   "source": [
    "# drop columns with more than 10% nans\n",
    "df1.dropna(thresh=len(df1)-len(df1)/10, axis=1, inplace=True)\n",
    "df2.dropna(thresh=len(df2)-len(df2)/10, axis=1, inplace=True)\n",
    "df3.dropna(thresh=len(df3)-len(df3)/10, axis=1, inplace=True)\n",
    "df4.dropna(thresh=len(df4)-len(df4)/10, axis=1, inplace=True)\n",
    "df5.dropna(thresh=len(df5)-len(df5)/10, axis=1, inplace=True)"
   ]
  },
  {
   "cell_type": "code",
   "execution_count": 15,
   "metadata": {
    "collapsed": true
   },
   "outputs": [],
   "source": [
    "# imputing function, takes a list of 5 dfs as argument\n",
    "def mice_impute(list_of_dfs):\n",
    "    finished_dfs = []\n",
    "    for df in list_of_dfs:\n",
    "        mice = MICE(verbose=False)\n",
    "        df = pd.DataFrame(mice.complete(df), columns=df.columns)\n",
    "        finished_dfs.append(df)\n",
    "        \n",
    "    return finished_dfs[0], finished_dfs[1], finished_dfs[2], finished_dfs[3], finished_dfs[4]"
   ]
  },
  {
   "cell_type": "code",
   "execution_count": 16,
   "metadata": {
    "collapsed": true
   },
   "outputs": [],
   "source": [
    "# impute values\n",
    "list_of_dfs = [df1, df2, df3, df4, df5]\n",
    "df1, df2, df3, df4, df5 = mice_impute(list_of_dfs)"
   ]
  },
  {
   "cell_type": "code",
   "execution_count": 17,
   "metadata": {},
   "outputs": [
    {
     "data": {
      "text/plain": [
       "Index(['LOCALE', 'UG25ABV', 'percent_science0', 'percent_social0',\n",
       "       'percent_technical0', 'science_disciplines0', 'social_disciplines0',\n",
       "       'technical_disciplines0'],\n",
       "      dtype='object')"
      ]
     },
     "execution_count": 17,
     "metadata": {},
     "output_type": "execute_result"
    }
   ],
   "source": [
    "df1.columns.difference(df2.columns)"
   ]
  },
  {
   "cell_type": "code",
   "execution_count": 18,
   "metadata": {},
   "outputs": [
    {
     "data": {
      "text/plain": [
       "Index(['MD_INC_DEBT_MDN', 'percent_science1', 'percent_social1',\n",
       "       'percent_technical1', 'science_disciplines1', 'social_disciplines1',\n",
       "       'technical_disciplines1'],\n",
       "      dtype='object')"
      ]
     },
     "execution_count": 18,
     "metadata": {},
     "output_type": "execute_result"
    }
   ],
   "source": [
    "df2.columns.difference(df1.columns)"
   ]
  },
  {
   "cell_type": "code",
   "execution_count": 19,
   "metadata": {},
   "outputs": [
    {
     "data": {
      "text/plain": [
       "Index(['LOCALE', 'percent_science0', 'percent_social0', 'percent_technical0',\n",
       "       'science_disciplines0', 'social_disciplines0',\n",
       "       'technical_disciplines0'],\n",
       "      dtype='object')"
      ]
     },
     "execution_count": 19,
     "metadata": {},
     "output_type": "execute_result"
    }
   ],
   "source": [
    "df1.columns.difference(df3.columns)"
   ]
  },
  {
   "cell_type": "code",
   "execution_count": 20,
   "metadata": {},
   "outputs": [
    {
     "data": {
      "text/plain": [
       "Index(['MD_EARN_WNE_P6', 'MD_INC_DEBT_MDN', 'percent_science2',\n",
       "       'percent_social2', 'percent_technical2', 'science_disciplines2',\n",
       "       'social_disciplines2', 'technical_disciplines2'],\n",
       "      dtype='object')"
      ]
     },
     "execution_count": 20,
     "metadata": {},
     "output_type": "execute_result"
    }
   ],
   "source": [
    "df3.columns.difference(df1.columns)"
   ]
  },
  {
   "cell_type": "code",
   "execution_count": 21,
   "metadata": {},
   "outputs": [
    {
     "data": {
      "text/plain": [
       "Index(['LOCALE', 'UG25ABV', 'percent_science0', 'percent_social0',\n",
       "       'percent_technical0', 'science_disciplines0', 'social_disciplines0',\n",
       "       'technical_disciplines0'],\n",
       "      dtype='object')"
      ]
     },
     "execution_count": 21,
     "metadata": {},
     "output_type": "execute_result"
    }
   ],
   "source": [
    "df1.columns.difference(df4.columns)"
   ]
  },
  {
   "cell_type": "code",
   "execution_count": 22,
   "metadata": {},
   "outputs": [
    {
     "data": {
      "text/plain": [
       "Index(['MD_EARN_WNE_P6', 'MD_INC_DEBT_MDN', 'percent_science3',\n",
       "       'percent_social3', 'percent_technical3', 'science_disciplines3',\n",
       "       'social_disciplines3', 'technical_disciplines3'],\n",
       "      dtype='object')"
      ]
     },
     "execution_count": 22,
     "metadata": {},
     "output_type": "execute_result"
    }
   ],
   "source": [
    "df4.columns.difference(df1.columns)"
   ]
  },
  {
   "cell_type": "code",
   "execution_count": 23,
   "metadata": {},
   "outputs": [
    {
     "data": {
      "text/plain": [
       "Index(['LOCALE', 'percent_science0', 'percent_social0', 'percent_technical0',\n",
       "       'science_disciplines0', 'social_disciplines0',\n",
       "       'technical_disciplines0'],\n",
       "      dtype='object')"
      ]
     },
     "execution_count": 23,
     "metadata": {},
     "output_type": "execute_result"
    }
   ],
   "source": [
    "df4.columns.difference(df1.columns)"
   ]
  },
  {
   "cell_type": "code",
   "execution_count": 24,
   "metadata": {},
   "outputs": [
    {
     "data": {
      "text/plain": [
       "Index(['MD_EARN_WNE_P6', 'MD_INC_DEBT_MDN', 'PFTFAC', 'percent_science4',\n",
       "       'percent_social4', 'percent_technical4', 'science_disciplines4',\n",
       "       'social_disciplines4', 'technical_disciplines4'],\n",
       "      dtype='object')"
      ]
     },
     "execution_count": 24,
     "metadata": {},
     "output_type": "execute_result"
    }
   ],
   "source": [
    "df5.columns.difference(df1.columns)"
   ]
  },
  {
   "cell_type": "code",
   "execution_count": 25,
   "metadata": {
    "collapsed": true
   },
   "outputs": [],
   "source": [
    "one = set(df1.columns.values)\n",
    "two = set(df2.columns.values)\n",
    "tree = set(df3.columns.values)\n",
    "four = set(df4.columns.values)\n",
    "five = set(df5.columns.values)"
   ]
  },
  {
   "cell_type": "code",
   "execution_count": 26,
   "metadata": {},
   "outputs": [
    {
     "data": {
      "text/html": [
       "<div>\n",
       "<style scoped>\n",
       "    .dataframe tbody tr th:only-of-type {\n",
       "        vertical-align: middle;\n",
       "    }\n",
       "\n",
       "    .dataframe tbody tr th {\n",
       "        vertical-align: top;\n",
       "    }\n",
       "\n",
       "    .dataframe thead th {\n",
       "        text-align: right;\n",
       "    }\n",
       "</style>\n",
       "<table border=\"1\" class=\"dataframe\">\n",
       "  <thead>\n",
       "    <tr style=\"text-align: right;\">\n",
       "      <th></th>\n",
       "      <th>PCTFLOAN</th>\n",
       "      <th>GRAD_DEBT_MDN</th>\n",
       "      <th>WDRAW_DEBT_MDN</th>\n",
       "      <th>LO_INC_DEBT_MDN</th>\n",
       "      <th>HI_INC_DEBT_MDN</th>\n",
       "      <th>C150_4</th>\n",
       "      <th>TRANS_4</th>\n",
       "      <th>COSTT4_A</th>\n",
       "      <th>TUITIONFEE_IN</th>\n",
       "      <th>TUITIONFEE_OUT</th>\n",
       "      <th>...</th>\n",
       "      <th>PAR_ED_PCT_PS</th>\n",
       "      <th>AGE_ENTRY</th>\n",
       "      <th>FEMALE</th>\n",
       "      <th>D_PCTPELL_PCTFLOAN</th>\n",
       "      <th>percent_science0</th>\n",
       "      <th>percent_social0</th>\n",
       "      <th>percent_technical0</th>\n",
       "      <th>science_disciplines0</th>\n",
       "      <th>social_disciplines0</th>\n",
       "      <th>technical_disciplines0</th>\n",
       "    </tr>\n",
       "  </thead>\n",
       "  <tbody>\n",
       "    <tr>\n",
       "      <th>0</th>\n",
       "      <td>0.8159</td>\n",
       "      <td>35000.0</td>\n",
       "      <td>9500.0</td>\n",
       "      <td>14457.0</td>\n",
       "      <td>14250.0</td>\n",
       "      <td>0.3081</td>\n",
       "      <td>0.4012</td>\n",
       "      <td>20809.0</td>\n",
       "      <td>9366.0</td>\n",
       "      <td>17136.0</td>\n",
       "      <td>...</td>\n",
       "      <td>0.611264</td>\n",
       "      <td>20.277134</td>\n",
       "      <td>0.547243</td>\n",
       "      <td>4210.0</td>\n",
       "      <td>0.2582</td>\n",
       "      <td>0.5024</td>\n",
       "      <td>0.2395</td>\n",
       "      <td>7.0</td>\n",
       "      <td>10.0</td>\n",
       "      <td>4.0</td>\n",
       "    </tr>\n",
       "    <tr>\n",
       "      <th>1</th>\n",
       "      <td>0.5218</td>\n",
       "      <td>21500.0</td>\n",
       "      <td>9500.0</td>\n",
       "      <td>14739.0</td>\n",
       "      <td>14000.0</td>\n",
       "      <td>0.5462</td>\n",
       "      <td>0.2423</td>\n",
       "      <td>22232.0</td>\n",
       "      <td>7766.0</td>\n",
       "      <td>17654.0</td>\n",
       "      <td>...</td>\n",
       "      <td>0.643541</td>\n",
       "      <td>23.584156</td>\n",
       "      <td>0.636968</td>\n",
       "      <td>11679.0</td>\n",
       "      <td>0.1146</td>\n",
       "      <td>0.7911</td>\n",
       "      <td>0.0943</td>\n",
       "      <td>4.0</td>\n",
       "      <td>15.0</td>\n",
       "      <td>2.0</td>\n",
       "    </tr>\n",
       "    <tr>\n",
       "      <th>2</th>\n",
       "      <td>0.8781</td>\n",
       "      <td>23000.0</td>\n",
       "      <td>9500.0</td>\n",
       "      <td>9500.0</td>\n",
       "      <td>18469.0</td>\n",
       "      <td>0.4000</td>\n",
       "      <td>0.4000</td>\n",
       "      <td>12133.0</td>\n",
       "      <td>6900.0</td>\n",
       "      <td>6900.0</td>\n",
       "      <td>...</td>\n",
       "      <td>0.471429</td>\n",
       "      <td>33.065934</td>\n",
       "      <td>0.604396</td>\n",
       "      <td>279.0</td>\n",
       "      <td>0.2453</td>\n",
       "      <td>0.6226</td>\n",
       "      <td>0.1321</td>\n",
       "      <td>2.0</td>\n",
       "      <td>6.0</td>\n",
       "      <td>2.0</td>\n",
       "    </tr>\n",
       "    <tr>\n",
       "      <th>3</th>\n",
       "      <td>0.4589</td>\n",
       "      <td>23500.0</td>\n",
       "      <td>9377.0</td>\n",
       "      <td>16750.0</td>\n",
       "      <td>12500.0</td>\n",
       "      <td>0.4935</td>\n",
       "      <td>0.3178</td>\n",
       "      <td>20999.0</td>\n",
       "      <td>9128.0</td>\n",
       "      <td>20622.0</td>\n",
       "      <td>...</td>\n",
       "      <td>0.686207</td>\n",
       "      <td>23.152714</td>\n",
       "      <td>0.477921</td>\n",
       "      <td>5618.0</td>\n",
       "      <td>0.1441</td>\n",
       "      <td>0.5530</td>\n",
       "      <td>0.3027</td>\n",
       "      <td>5.0</td>\n",
       "      <td>13.0</td>\n",
       "      <td>1.0</td>\n",
       "    </tr>\n",
       "    <tr>\n",
       "      <th>4</th>\n",
       "      <td>0.7692</td>\n",
       "      <td>32091.0</td>\n",
       "      <td>11500.0</td>\n",
       "      <td>15338.0</td>\n",
       "      <td>15000.0</td>\n",
       "      <td>0.2696</td>\n",
       "      <td>0.0000</td>\n",
       "      <td>18100.0</td>\n",
       "      <td>8720.0</td>\n",
       "      <td>15656.0</td>\n",
       "      <td>...</td>\n",
       "      <td>0.630741</td>\n",
       "      <td>20.201286</td>\n",
       "      <td>0.612294</td>\n",
       "      <td>4805.0</td>\n",
       "      <td>0.1928</td>\n",
       "      <td>0.6729</td>\n",
       "      <td>0.1342</td>\n",
       "      <td>4.0</td>\n",
       "      <td>12.0</td>\n",
       "      <td>1.0</td>\n",
       "    </tr>\n",
       "  </tbody>\n",
       "</table>\n",
       "<p>5 rows × 27 columns</p>\n",
       "</div>"
      ],
      "text/plain": [
       "   PCTFLOAN  GRAD_DEBT_MDN  WDRAW_DEBT_MDN  LO_INC_DEBT_MDN  HI_INC_DEBT_MDN  \\\n",
       "0    0.8159        35000.0          9500.0          14457.0          14250.0   \n",
       "1    0.5218        21500.0          9500.0          14739.0          14000.0   \n",
       "2    0.8781        23000.0          9500.0           9500.0          18469.0   \n",
       "3    0.4589        23500.0          9377.0          16750.0          12500.0   \n",
       "4    0.7692        32091.0         11500.0          15338.0          15000.0   \n",
       "\n",
       "   C150_4  TRANS_4  COSTT4_A  TUITIONFEE_IN  TUITIONFEE_OUT  \\\n",
       "0  0.3081   0.4012   20809.0         9366.0         17136.0   \n",
       "1  0.5462   0.2423   22232.0         7766.0         17654.0   \n",
       "2  0.4000   0.4000   12133.0         6900.0          6900.0   \n",
       "3  0.4935   0.3178   20999.0         9128.0         20622.0   \n",
       "4  0.2696   0.0000   18100.0         8720.0         15656.0   \n",
       "\n",
       "            ...            PAR_ED_PCT_PS  AGE_ENTRY    FEMALE  \\\n",
       "0           ...                 0.611264  20.277134  0.547243   \n",
       "1           ...                 0.643541  23.584156  0.636968   \n",
       "2           ...                 0.471429  33.065934  0.604396   \n",
       "3           ...                 0.686207  23.152714  0.477921   \n",
       "4           ...                 0.630741  20.201286  0.612294   \n",
       "\n",
       "   D_PCTPELL_PCTFLOAN  percent_science0  percent_social0  percent_technical0  \\\n",
       "0              4210.0            0.2582           0.5024              0.2395   \n",
       "1             11679.0            0.1146           0.7911              0.0943   \n",
       "2               279.0            0.2453           0.6226              0.1321   \n",
       "3              5618.0            0.1441           0.5530              0.3027   \n",
       "4              4805.0            0.1928           0.6729              0.1342   \n",
       "\n",
       "   science_disciplines0  social_disciplines0  technical_disciplines0  \n",
       "0                   7.0                 10.0                     4.0  \n",
       "1                   4.0                 15.0                     2.0  \n",
       "2                   2.0                  6.0                     2.0  \n",
       "3                   5.0                 13.0                     1.0  \n",
       "4                   4.0                 12.0                     1.0  \n",
       "\n",
       "[5 rows x 27 columns]"
      ]
     },
     "execution_count": 26,
     "metadata": {},
     "output_type": "execute_result"
    }
   ],
   "source": [
    "d1.head()"
   ]
  },
  {
   "cell_type": "code",
   "execution_count": 28,
   "metadata": {},
   "outputs": [
    {
     "ename": "AttributeError",
     "evalue": "'Index' object has no attribute 'common'",
     "output_type": "error",
     "traceback": [
      "\u001b[0;31m---------------------------------------------------------------------------\u001b[0m",
      "\u001b[0;31mAttributeError\u001b[0m                            Traceback (most recent call last)",
      "\u001b[0;32m<ipython-input-28-a4be6996f98b>\u001b[0m in \u001b[0;36m<module>\u001b[0;34m()\u001b[0m\n\u001b[0;32m----> 1\u001b[0;31m \u001b[0mdf1\u001b[0m\u001b[0;34m.\u001b[0m\u001b[0mcolumns\u001b[0m\u001b[0;34m.\u001b[0m\u001b[0mcommon\u001b[0m\u001b[0;34m(\u001b[0m\u001b[0mdf2\u001b[0m\u001b[0;34m.\u001b[0m\u001b[0mcolumns\u001b[0m\u001b[0;34m)\u001b[0m\u001b[0;34m\u001b[0m\u001b[0m\n\u001b[0m",
      "\u001b[0;31mAttributeError\u001b[0m: 'Index' object has no attribute 'common'"
     ]
    }
   ],
   "source": [
    "df1.columns.common(df2.columns)"
   ]
  },
  {
   "cell_type": "code",
   "execution_count": null,
   "metadata": {
    "collapsed": true
   },
   "outputs": [],
   "source": []
  },
  {
   "cell_type": "code",
   "execution_count": null,
   "metadata": {
    "collapsed": true
   },
   "outputs": [],
   "source": []
  },
  {
   "cell_type": "code",
   "execution_count": null,
   "metadata": {
    "collapsed": true
   },
   "outputs": [],
   "source": []
  }
 ],
 "metadata": {
  "kernelspec": {
   "display_name": "Python 3",
   "language": "python",
   "name": "python3"
  },
  "language_info": {
   "codemirror_mode": {
    "name": "ipython",
    "version": 3
   },
   "file_extension": ".py",
   "mimetype": "text/x-python",
   "name": "python",
   "nbconvert_exporter": "python",
   "pygments_lexer": "ipython3",
   "version": "3.6.3"
  }
 },
 "nbformat": 4,
 "nbformat_minor": 2
}
